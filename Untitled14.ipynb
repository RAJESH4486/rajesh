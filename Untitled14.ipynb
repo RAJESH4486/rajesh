{
  "nbformat": 4,
  "nbformat_minor": 0,
  "metadata": {
    "colab": {
      "provenance": [],
      "authorship_tag": "ABX9TyM0L4oZuVN3Y9x6BxJgJzqX",
      "include_colab_link": true
    },
    "kernelspec": {
      "name": "python3",
      "display_name": "Python 3"
    },
    "language_info": {
      "name": "python"
    }
  },
  "cells": [
    {
      "cell_type": "markdown",
      "metadata": {
        "id": "view-in-github",
        "colab_type": "text"
      },
      "source": [
        "<a href=\"https://colab.research.google.com/github/RAJESH4486/rajesh/blob/main/Untitled14.ipynb\" target=\"_parent\"><img src=\"https://colab.research.google.com/assets/colab-badge.svg\" alt=\"Open In Colab\"/></a>"
      ]
    },
    {
      "cell_type": "code",
      "execution_count": null,
      "metadata": {
        "colab": {
          "base_uri": "https://localhost:8080/"
        },
        "id": "d8_StEp2mchl",
        "outputId": "e462cf29-e875-4ab8-e7d3-7b75d6eb18ca"
      },
      "outputs": [
        {
          "output_type": "stream",
          "name": "stdout",
          "text": [
            "Requirement already satisfied: gTTS in /usr/local/lib/python3.11/dist-packages (2.5.4)\n",
            "Requirement already satisfied: requests<3,>=2.27 in /usr/local/lib/python3.11/dist-packages (from gTTS) (2.32.3)\n",
            "Requirement already satisfied: click<8.2,>=7.1 in /usr/local/lib/python3.11/dist-packages (from gTTS) (8.1.8)\n",
            "Requirement already satisfied: charset-normalizer<4,>=2 in /usr/local/lib/python3.11/dist-packages (from requests<3,>=2.27->gTTS) (3.4.2)\n",
            "Requirement already satisfied: idna<4,>=2.5 in /usr/local/lib/python3.11/dist-packages (from requests<3,>=2.27->gTTS) (2.10)\n",
            "Requirement already satisfied: urllib3<3,>=1.21.1 in /usr/local/lib/python3.11/dist-packages (from requests<3,>=2.27->gTTS) (2.4.0)\n",
            "Requirement already satisfied: certifi>=2017.4.17 in /usr/local/lib/python3.11/dist-packages (from requests<3,>=2.27->gTTS) (2025.4.26)\n"
          ]
        }
      ],
      "source": [
        "!pip install gTTS"
      ]
    },
    {
      "cell_type": "code",
      "source": [
        "from gtts import gTTS\n",
        "from IPython.display import Audio"
      ],
      "metadata": {
        "id": "ivH27uX4o903"
      },
      "execution_count": null,
      "outputs": []
    },
    {
      "cell_type": "code",
      "source": [
        "a = gTTS(input ('enter any text:'))\n"
      ],
      "metadata": {
        "id": "-YBuMat0p-aV"
      },
      "execution_count": null,
      "outputs": []
    },
    {
      "cell_type": "code",
      "source": [
        "a.save(\"speech1.mp3\")"
      ],
      "metadata": {
        "id": "8CWjvYcFtpWY"
      },
      "execution_count": null,
      "outputs": []
    },
    {
      "cell_type": "code",
      "source": [
        "Audio('speech1.mp3')"
      ],
      "metadata": {
        "id": "WLmX03t2tsKM"
      },
      "execution_count": null,
      "outputs": []
    },
    {
      "cell_type": "code",
      "source": [
        "c='''\n",
        "\n",
        "Ravi: Hey guys, I was thinking of buying a new bike. Any suggestions?\n",
        "\n",
        "Arjun: Oh nice! What type are you looking for? A sports bike or something more for daily use?\n",
        "\n",
        "Ravi: Hmm... something sporty but also good for the city. I was looking at the Yamaha R15.\n",
        "\n",
        "Sneha: That’s a good choice! But it’s a bit aggressive on posture. Are you okay with long rides on that?\n",
        "\n",
        "Ravi: That’s what I’m worried about. It looks great, but I’ve heard it’s not very comfortable for long commutes.\n",
        "\n",
        "Priya: Why don’t you try the KTM Duke 200? It has a sporty look and better upright seating.\n",
        "\n",
        "Arjun: True! Or even the Bajaj Pulsar N250—it’s powerful, stylish, and more affordable.\n",
        "\n",
        "Ravi: Yeah, the Pulsar sounds good too. How’s the mileage though?\n",
        "\n",
        "Arjun: Around 35 to 40 km/l. Not bad for a 250cc bike.\n",
        "\n",
        "Sneha: If you care about mileage, you should check the Honda Unicorn. Not flashy, but super reliable.\n",
        "\n",
        "Priya: I agree. Honda bikes are low maintenance too. But they don’t have the sporty appeal Ravi wants.\n",
        "\n",
        "Ravi: Yeah, I want something that turns heads too! What about Royal Enfield?\n",
        "\n",
        "Arjun: Oh man, that's a different vibe altogether. Classic, thumping ride... but it’s heavy and not great for city traffic.\n",
        "\n",
        "Sneha: And if you’re riding daily, that weight can be tiring. But nothing beats the feel of a Bullet on an open road!\n",
        "\n",
        "Priya: So many options! I think you need to test ride a few and see what feels right.\n",
        "\n",
        "Ravi: You’re right. I’ll shortlist the R15, Duke 200, and Pulsar N250. Let’s go to the showroom this weekend?\n",
        "\n",
        "All: Yeah! Let’s do it!'''"
      ],
      "metadata": {
        "id": "-rGnEqZzNBkf"
      },
      "execution_count": null,
      "outputs": []
    },
    {
      "cell_type": "code",
      "source": [
        "!pip install transformers"
      ],
      "metadata": {
        "id": "oVoLRx0gIm4W"
      },
      "execution_count": null,
      "outputs": []
    },
    {
      "cell_type": "code",
      "source": [
        "from transformers import pipeline"
      ],
      "metadata": {
        "id": "FE62i9c2IrYm"
      },
      "execution_count": null,
      "outputs": []
    },
    {
      "cell_type": "code",
      "source": [
        "s = pipeline(\"summarization\")"
      ],
      "metadata": {
        "id": "Mh8fJs0VIxy-"
      },
      "execution_count": null,
      "outputs": []
    },
    {
      "cell_type": "code",
      "source": [
        "result = s(c)\n",
        "result[0].get('summaruy_text')"
      ],
      "metadata": {
        "id": "dybP_bETI3A2"
      },
      "execution_count": null,
      "outputs": []
    },
    {
      "cell_type": "code",
      "source": [
        "import smtplib\n",
        "from email.mime.text import MIMEText\n",
        "from email.mime.multipart import MIMEMultipart\n",
        "\n",
        "# Summary text\n",
        "summary = result[0].get('summary_text')\n",
        "\n",
        "# Email configuration\n",
        "sender_email = \"anjankumaryadav86@gmail.com\"\n",
        "receiver_email = \"tallambhaskararao@gmail.com\"\n",
        "app_password = \"jkax zxib osma uxgb\"\n",
        "\n",
        "# Create the email message\n",
        "msg = MIMEMultipart()\n",
        "msg['From'] = sender_email\n",
        "msg['To'] = receiver_email\n",
        "msg['Subject'] = \"Summary:  Bike Conversation\"\n",
        "msg.attach(MIMEText(summary, 'plain'))\n",
        "\n",
        "# Send the email\n",
        "try:\n",
        "    server = smtplib.SMTP('smtp.gmail.com', 587)\n",
        "    server.starttls()\n",
        "    server.login(\"anjankumaryadav86@gmail.com\",\"jkax zxib osma uxgb\")\n",
        "    text = msg.as_string\n",
        "    server.send_message(msg)\n",
        "    server.quit()\n",
        "    print(\"✅ Email sent successfully!\")\n",
        "except Exception as e:\n",
        "    print(f\"❌ Failed to send email: {e}\")\n"
      ],
      "metadata": {
        "id": "3L4IBKEEJNtm"
      },
      "execution_count": null,
      "outputs": []
    },
    {
      "cell_type": "code",
      "source": [
        "qa=pipeline(\"question-answering\")"
      ],
      "metadata": {
        "id": "Xcy_Nz-ANa8V"
      },
      "execution_count": null,
      "outputs": []
    },
    {
      "cell_type": "code",
      "source": [
        "c=''' Ravi is looking to buy a new bike for the first time .\n",
        " He wants something sporty but also good for the city .\n",
        " Yamaha R15, KTM Duke 200, Bajaj Pulsar N250 and Honda Unicorn are all good choices .\n",
        "  But they don't have the sporty appeal Ravi wants .'''"
      ],
      "metadata": {
        "id": "FR_u4sMSNeA1"
      },
      "execution_count": null,
      "outputs": []
    },
    {
      "cell_type": "code",
      "source": [
        "q=\"ehich sports bikes are suggested?\"\n"
      ],
      "metadata": {
        "id": "gcMkCEroNhK1"
      },
      "execution_count": null,
      "outputs": []
    },
    {
      "cell_type": "code",
      "source": [
        "result=qa({'question':q,'context':c})\n",
        "print(result)"
      ],
      "metadata": {
        "id": "KRFA_PTZNyRu"
      },
      "execution_count": null,
      "outputs": []
    },
    {
      "cell_type": "code",
      "source": [
        "a = pipeline(\"sentiment-analysis\")"
      ],
      "metadata": {
        "id": "asgCtza-N0Td"
      },
      "execution_count": null,
      "outputs": []
    },
    {
      "cell_type": "code",
      "source": [
        "text = input(\"Enter the text: \")\n",
        "print(a(text))"
      ],
      "metadata": {
        "id": "rWeBt5u6N2PN"
      },
      "execution_count": null,
      "outputs": []
    },
    {
      "cell_type": "code",
      "source": [
        "!pip install googletrans==4.0.0-rc1\n"
      ],
      "metadata": {
        "id": "LoXP7dBKN37P"
      },
      "execution_count": null,
      "outputs": []
    },
    {
      "cell_type": "code",
      "source": [
        "from googletrans import Translator\n",
        "summary=''' Ravi is looking to buy a new bike for the first time .\n",
        "He wants something sporty but also good for the city .\n",
        "yamaha R15, KTM Duke 200, Bajaj Pulsar N250 and Honda Unicorn are all good choices .\n",
        "But they don't have the sporty appeal Ravi wants .'''\n",
        "languages = {\n",
        "    '1': ('French', 'fr'),\n",
        "    '2': ('Spanish', 'es'),\n",
        "    '3': ('German', 'de'),\n",
        "    '4': ('Japanese', 'ja'),\n",
        "    '5': ('Hindi', 'hi'),\n",
        "    '6': ('Tamil', 'ta'),\n",
        "    '7': ('Telugu', 'te')\n",
        "}\n",
        "choice = input(\"Enter the number of your choice: \").strip()\n",
        "\n",
        "if choice in languages:\n",
        "    lang_name, lang_code = languages[choice]\n",
        "    translator = Translator()\n",
        "    translated = translator.translate(summary, dest=lang_code)\n",
        "    print(f\"\\n📌 Translated Summary in {lang_name}:\")\n",
        "    print(translated.text)\n",
        "else:\n",
        "    print(\"❌ Invalid choice.\")"
      ],
      "metadata": {
        "id": "YXYSCdhcN7OH"
      },
      "execution_count": null,
      "outputs": []
    }
  ]
}