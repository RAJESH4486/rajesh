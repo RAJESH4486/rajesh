{
  "nbformat": 4,
  "nbformat_minor": 0,
  "metadata": {
    "colab": {
      "provenance": [],
      "authorship_tag": "ABX9TyOzMLDvuff6atH32j4UACXb",
      "include_colab_link": true
    },
    "kernelspec": {
      "name": "python3",
      "display_name": "Python 3"
    },
    "language_info": {
      "name": "python"
    }
  },
  "cells": [
    {
      "cell_type": "markdown",
      "metadata": {
        "id": "view-in-github",
        "colab_type": "text"
      },
      "source": [
        "<a href=\"https://colab.research.google.com/github/RAJESH4486/rajesh/blob/main/Untitled1.ipynb\" target=\"_parent\"><img src=\"https://colab.research.google.com/assets/colab-badge.svg\" alt=\"Open In Colab\"/></a>"
      ]
    },
    {
      "cell_type": "code",
      "source": [
        "import requests\n",
        "city = input(\"Enter city: \")\n",
        "response = requests.get(f\"https://api.openweathermap.org/data/2.5/weather?q={city}&appid=babf5b204ddef15e40adb274a185a000\").json()\n",
        "if \"weather\" in response and \"rain\" in response[\"weather\"][0][\"description\"].lower():\n",
        "    print(\"Suggestion: Bring an umbrella!\")\n",
        "else:\n",
        "    print(\"Weather unavailable or invalid API key/city.\")\n"
      ],
      "metadata": {
        "id": "7m60MJBInq6E"
      },
      "execution_count": null,
      "outputs": []
    }
  ]
}